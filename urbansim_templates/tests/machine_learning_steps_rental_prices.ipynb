{
 "cells": [
  {
   "cell_type": "code",
   "execution_count": 43,
   "metadata": {},
   "outputs": [],
   "source": [
    "import orca\n",
    "import numpy as np\n",
    "import pandas as pd\n",
    "import matplotlib.pyplot as plt\n",
    "\n",
    "from urbansim_templates import modelmanager\n",
    "from urbansim_templates.models.regression import RandomForestRegressionStep, OLSRegressionStep, GradientBoostingRegressionStep\n",
    "from urbansim_templates.models.neuro_network import NeuralNetworkStep"
   ]
  },
  {
   "cell_type": "code",
   "execution_count": 2,
   "metadata": {},
   "outputs": [],
   "source": [
    "# load rental data\n",
    "rental = pd.read_csv('data\\\\rentals_with_nodes.csv')\n",
    "node_small = pd.read_csv('data\\\\nodessmall_vars.csv') \n",
    "node_walk = pd.read_csv('data\\\\nodeswalk_vars.csv') "
   ]
  },
  {
   "cell_type": "code",
   "execution_count": 40,
   "metadata": {},
   "outputs": [],
   "source": [
    "data = pd.merge(rental, node_small, left_on='node_id_small', right_on='osmid')\n",
    "data = pd.merge(data, node_walk, left_on='node_id_walk', right_on='osmid')\n"
   ]
  },
  {
   "cell_type": "code",
   "execution_count": 4,
   "metadata": {},
   "outputs": [
    {
     "data": {
      "text/plain": [
       "<orca.orca.DataFrameWrapper at 0x10189c50>"
      ]
     },
     "execution_count": 4,
     "metadata": {},
     "output_type": "execute_result"
    }
   ],
   "source": [
    "# register data in orca\n",
    "orca.add_table('rental_prices', data)"
   ]
  },
  {
   "cell_type": "code",
   "execution_count": 6,
   "metadata": {},
   "outputs": [
    {
     "name": "stdout",
     "output_type": "stream",
     "text": [
      "No yaml files found in path 'configs'\n"
     ]
    }
   ],
   "source": [
    "# create random forest step \n",
    "modelmanager.initialize()"
   ]
  },
  {
   "cell_type": "code",
   "execution_count": 7,
   "metadata": {},
   "outputs": [],
   "source": [
    "# define model expression\n",
    "model_expression = 'np.log(rent_sqft) ~ bedrooms + np.log1p(units_500_walk) + np.log1p(rich_500_walk) + '\\\n",
    "        'np.log1p(singles_500_walk) + np.log1p(children_500_walk)'"
   ]
  },
  {
   "cell_type": "code",
   "execution_count": 8,
   "metadata": {},
   "outputs": [],
   "source": [
    "# random forest\n",
    "rf = RandomForestRegressionStep(out_column='rent_sqft', out_transform=np.exp)\n",
    "rf.tables = 'rental_prices'\n",
    "rf.model_expression = model_expression\n",
    "rf.fit()"
   ]
  },
  {
   "cell_type": "code",
   "execution_count": 9,
   "metadata": {},
   "outputs": [],
   "source": [
    "# gradient boosting\n",
    "gb = GradientBoostingRegressionStep(out_column='rent_sqft', out_transform=np.exp)\n",
    "gb.tables = 'rental_prices'\n",
    "gb.model_expression = model_expression\n",
    "gb.fit()"
   ]
  },
  {
   "cell_type": "code",
   "execution_count": 10,
   "metadata": {},
   "outputs": [
    {
     "name": "stdout",
     "output_type": "stream",
     "text": [
      "                            OLS Regression Results                            \n",
      "==============================================================================\n",
      "Dep. Variable:      np.log(rent_sqft)   R-squared:                       0.408\n",
      "Model:                            OLS   Adj. R-squared:                  0.408\n",
      "Method:                 Least Squares   F-statistic:                 4.301e+04\n",
      "Date:                Wed, 10 Oct 2018   Prob (F-statistic):               0.00\n",
      "Time:                        12:23:02   Log-Likelihood:                -17618.\n",
      "No. Observations:              312325   AIC:                         3.525e+04\n",
      "Df Residuals:                  312319   BIC:                         3.531e+04\n",
      "Df Model:                           5                                         \n",
      "Covariance Type:            nonrobust                                         \n",
      "===============================================================================================\n",
      "                                  coef    std err          t      P>|t|      [0.025      0.975]\n",
      "-----------------------------------------------------------------------------------------------\n",
      "Intercept                       1.2682      0.002    552.968      0.000       1.264       1.273\n",
      "bedrooms                       -0.1471      0.000   -298.658      0.000      -0.148      -0.146\n",
      "np.log1p(units_500_walk)       -0.0306      0.002    -20.384      0.000      -0.034      -0.028\n",
      "np.log1p(rich_500_walk)         0.1129      0.001    185.490      0.000       0.112       0.114\n",
      "np.log1p(singles_500_walk)      0.0575      0.001     61.841      0.000       0.056       0.059\n",
      "np.log1p(children_500_walk)    -0.0911      0.001   -106.941      0.000      -0.093      -0.089\n",
      "==============================================================================\n",
      "Omnibus:                    77001.354   Durbin-Watson:                   0.820\n",
      "Prob(Omnibus):                  0.000   Jarque-Bera (JB):           541361.022\n",
      "Skew:                          -1.006   Prob(JB):                         0.00\n",
      "Kurtosis:                       9.128   Cond. No.                         59.1\n",
      "==============================================================================\n",
      "\n",
      "Warnings:\n",
      "[1] Standard Errors assume that the covariance matrix of the errors is correctly specified.\n"
     ]
    }
   ],
   "source": [
    "# ols\n",
    "ols = OLSRegressionStep(out_transform=np.exp, out_column='rent_sqft')\n",
    "ols.tables = 'rental_prices'\n",
    "ols.model_expression = model_expression\n",
    "ols.fit()"
   ]
  },
  {
   "cell_type": "code",
   "execution_count": 11,
   "metadata": {},
   "outputs": [],
   "source": [
    "# two hiiden layers neuro network\n",
    "nn = NeuralNetworkStep(out_transform=np.exp, out_column='rent_sqft')\n",
    "nn.tables = 'rental_prices'\n",
    "nn.model_expression = model_expression\n",
    "nn.fit(verbose=0, epochs=4, batch_size=16)"
   ]
  },
  {
   "cell_type": "code",
   "execution_count": 12,
   "metadata": {},
   "outputs": [],
   "source": [
    "# create cross validation metrics\n",
    "rf.cross_validate_score()\n",
    "ols.cross_validate_score()\n",
    "gb.cross_validate_score()\n",
    "nn.cross_validate_score(verbose=0, epochs=4, batch_size=32)"
   ]
  },
  {
   "cell_type": "code",
   "execution_count": 13,
   "metadata": {},
   "outputs": [
    {
     "data": {
      "text/html": [
       "<div>\n",
       "<style scoped>\n",
       "    .dataframe tbody tr th:only-of-type {\n",
       "        vertical-align: middle;\n",
       "    }\n",
       "\n",
       "    .dataframe tbody tr th {\n",
       "        vertical-align: top;\n",
       "    }\n",
       "\n",
       "    .dataframe thead th {\n",
       "        text-align: right;\n",
       "    }\n",
       "</style>\n",
       "<table border=\"1\" class=\"dataframe\">\n",
       "  <thead>\n",
       "    <tr style=\"text-align: right;\">\n",
       "      <th></th>\n",
       "      <th>mse</th>\n",
       "      <th>mae</th>\n",
       "    </tr>\n",
       "  </thead>\n",
       "  <tbody>\n",
       "    <tr>\n",
       "      <th>ols</th>\n",
       "      <td>0.693913</td>\n",
       "      <td>0.589260</td>\n",
       "    </tr>\n",
       "    <tr>\n",
       "      <th>random forest</th>\n",
       "      <td>0.277779</td>\n",
       "      <td>0.304354</td>\n",
       "    </tr>\n",
       "    <tr>\n",
       "      <th>gradient boosting</th>\n",
       "      <td>0.573558</td>\n",
       "      <td>0.525374</td>\n",
       "    </tr>\n",
       "    <tr>\n",
       "      <th>neuro_net_one_layer</th>\n",
       "      <td>0.673234</td>\n",
       "      <td>0.574803</td>\n",
       "    </tr>\n",
       "  </tbody>\n",
       "</table>\n",
       "</div>"
      ],
      "text/plain": [
       "                          mse       mae\n",
       "ols                  0.693913  0.589260\n",
       "random forest        0.277779  0.304354\n",
       "gradient boosting    0.573558  0.525374\n",
       "neuro_net_one_layer  0.673234  0.574803"
      ]
     },
     "execution_count": 13,
     "metadata": {},
     "output_type": "execute_result"
    }
   ],
   "source": [
    "# summary of cross validation statistics\n",
    "summary = pd.DataFrame()\n",
    "summary.loc['ols', 'mse'] = ols.cv_metric['mean_cross_validation']\n",
    "summary.loc['random forest', 'mse'] = rf.cv_metric['mean_cross_validation']\n",
    "summary.loc['gradient boosting', 'mse'] = gb.cv_metric['mean_cross_validation']\n",
    "summary.loc['neuro_net_one_layer', 'mse'] = nn.cv_metric['mean_cross_validation']\n",
    "summary.loc['ols', 'mae'] = ols.cv_metric['mae_cross_validation']\n",
    "summary.loc['random forest', 'mae'] = rf.cv_metric['mae_cross_validation']\n",
    "summary.loc['gradient boosting', 'mae'] = gb.cv_metric['mae_cross_validation']\n",
    "summary.loc['neuro_net_one_layer', 'mae'] = nn.cv_metric['mae_cross_validation']\n",
    "summary"
   ]
  },
  {
   "cell_type": "code",
   "execution_count": 9,
   "metadata": {},
   "outputs": [
    {
     "name": "stdout",
     "output_type": "stream",
     "text": [
      "Saving 'random_forest_rental_prices.yaml': C:\\Users\\Xavier\\Urbansim\\udst\\urbansim_templates_testing\\urbansim_templates\\urbansim_templates\\tests\\configs\n",
      "Registering model step 'random_forest_rental_prices'\n"
     ]
    }
   ],
   "source": [
    "# register best model\n",
    "rf.name = 'random_forest_rental_prices'\n",
    "modelmanager.register(rf)"
   ]
  },
  {
   "cell_type": "code",
   "execution_count": 33,
   "metadata": {},
   "outputs": [
    {
     "name": "stdout",
     "output_type": "stream",
     "text": [
      "Registering model step 'random_forest_rental_prices'\n"
     ]
    }
   ],
   "source": [
    "# check whether it is saved\n",
    "modelmanager.initialize()"
   ]
  },
  {
   "cell_type": "code",
   "execution_count": 34,
   "metadata": {
    "scrolled": false
   },
   "outputs": [],
   "source": [
    "m = modelmanager.get_step('random_forest_rental_prices')"
   ]
  },
  {
   "cell_type": "code",
   "execution_count": 35,
   "metadata": {},
   "outputs": [],
   "source": [
    "m.run()"
   ]
  },
  {
   "cell_type": "code",
   "execution_count": 41,
   "metadata": {},
   "outputs": [],
   "source": [
    "results = pd.DataFrame(m.predicted_values)\n",
    "results.columns = ['predicted']\n",
    "results['observed'] = data[m._get_out_column()]"
   ]
  },
  {
   "cell_type": "code",
   "execution_count": 45,
   "metadata": {},
   "outputs": [
    {
     "data": {
      "image/png": "[encoded data removed]",
      "text/plain": [
       "<Figure size 360x216 with 1 Axes>"
      ]
     },
     "metadata": {
      "needs_background": "light"
     },
     "output_type": "display_data"
    }
   ],
   "source": [
    "fig, ax = plt.subplots(figsize=(5, 3))\n",
    "ax.plot(results.observed, results.predicted, 'r*')\n",
    "ax.set_title('Random Forest')\n",
    "ax.set_ylabel('Predicted')\n",
    "ax.set_xlabel('Observed')\n",
    "fig.tight_layout()"
   ]
  },
  {
   "cell_type": "code",
   "execution_count": 27,
   "metadata": {},
   "outputs": [
    {
     "data": {
      "text/plain": [
       "<orca.orca.DataFrameWrapper at 0x11c70f60>"
      ]
     },
     "execution_count": 27,
     "metadata": {},
     "output_type": "execute_result"
    }
   ],
   "source": [
    "data"
   ]
  },
  {
   "cell_type": "code",
   "execution_count": null,
   "metadata": {},
   "outputs": [],
   "source": []
  }
 ],
 "metadata": {
  "kernelspec": {
   "display_name": "urbansim_templates",
   "language": "python",
   "name": "urbansim_templates"
  },
  "language_info": {
   "codemirror_mode": {
    "name": "ipython",
    "version": 3
   },
   "file_extension": ".py",
   "mimetype": "text/x-python",
   "name": "python",
   "nbconvert_exporter": "python",
   "pygments_lexer": "ipython3",
   "version": "3.6.6"
  }
 },
 "nbformat": 4,
 "nbformat_minor": 2
}
